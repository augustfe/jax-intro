{
 "cells": [
  {
   "cell_type": "markdown",
   "metadata": {
    "vscode": {
     "languageId": "plaintext"
    }
   },
   "source": [
    "# Efficient loops\n",
    "\n",
    "We will now see how loops are handled in JAX. _... wait, loops? I thought JAX was all about vectorization!_ Yes, JAX is all about vectorization, but sometimes there are cases where you need to use loops. In this notebook, we will see how to write efficient loops in JAX.\n",
    "\n",
    "Loops in JAX are handled through three primary functions, provided by the `jax.lax` module:\n",
    "1. `lax.scan`\n",
    "2. `lax.fori_loop`\n",
    "3. `lax.while_loop`\n",
    "\n",
    "We will see how to use each of these functions in this notebook.\n",
    "\n",
    "## The problem\n",
    "\n",
    "As an example problem, consider solving a model for exponential decay, given by\n",
    "```{math}\n",
    "    u'(t) = -a u(t), \\quad u(0) = I, t \\in (0, T]\n",
    "```\n",
    "where $a > 0$ is the decay rate, through a finite difference scheme.\n",
    "\n",
    "Through _the unifying $\\theta$-rule_ {cite}`LangtangenHansPetter2016FDCw`, we can discretize the above equation as\n",
    "```{math}\n",
    "    \\frac{u^{n+1} - u^n}{t_{n+1} - t_n} = -a \\left(\\theta u^{n+1} + (1 - \\theta) u^n \\right),\n",
    "```\n",
    "where with $\\theta = 0$ we have the explicit Euler method, with $\\theta = 1$ we have the implicit Euler method, and with $\\theta = \\frac{1}{2}$ we have the Crank-Nicolson method.\n",
    "\n",
    "Solving the above equation for $u^{n+1}$ with a constant timestep $\\Delta t = t_{n+1} - t_n \\ \\forall n$, we get\n",
    "```{math}\n",
    "    u^{n+1} = \\frac{1 - \\left( 1 - \\theta \\right) a \\Delta t}{1 + \\theta a \\Delta t} u^n.\n",
    "```\n",
    "\n",
    "## Implementing a solver in NumPy\n",
    "\n",
    "Implementing a solver for the above equation is relatively simple in NumPy."
   ]
  },
  {
   "cell_type": "code",
   "execution_count": 1,
   "metadata": {},
   "outputs": [],
   "source": [
    "import numpy as np\n",
    "\n",
    "\n",
    "def solver_numpy(\n",
    "    I: float, a: float, T: float, dt: float, theta: float\n",
    ") -> tuple[np.ndarray, np.ndarray]:\n",
    "    num_steps = int(T // dt)\n",
    "    u = np.zeros(num_steps + 1)\n",
    "    t = np.linspace(0, num_steps * dt, num_steps + 1)\n",
    "\n",
    "    u[0] = I\n",
    "    for n in range(num_steps):\n",
    "        u[n + 1] = (1 - (1 - theta) * a * dt) / (1 + theta * a * dt) * u[n]\n",
    "    return u, t"
   ]
  },
  {
   "cell_type": "markdown",
   "metadata": {},
   "source": [
    "Testing the solver with the Crank-Nicolson method, we have"
   ]
  },
  {
   "cell_type": "code",
   "execution_count": 31,
   "metadata": {},
   "outputs": [
    {
     "data": {
      "image/png": "[encoded data removed]",
      "text/plain": [
       "<Figure size 640x480 with 1 Axes>"
      ]
     },
     "metadata": {},
     "output_type": "display_data"
    }
   ],
   "source": [
    "import matplotlib.pyplot as plt\n",
    "\n",
    "I = 1\n",
    "a = 2\n",
    "T = 5\n",
    "dt = 0.05\n",
    "theta = 0.5\n",
    "\n",
    "u, t = solver_numpy(I, a, T, dt, theta)\n",
    "plt.plot(t, u)\n",
    "plt.xlabel(\"$t$\")\n",
    "plt.ylabel(\"$u$\")\n",
    "plt.title(\"Exponential decay solved with Crank-Nicolson\")\n",
    "plt.show()"
   ]
  },
  {
   "cell_type": "markdown",
   "metadata": {},
   "source": [
    "This implementation is however quite slow, as it uses a Python for-loop. In this case, we can speed up the implementation by noting that our reccurence relation can be written as\n",
    "```{math}\n",
    "    u^{n+1} = A u^n = A^n u^0,\n",
    "```\n",
    "where\n",
    "```{math}\n",
    "    A = \\frac{1 - \\left( 1 - \\theta \\right) a \\Delta t}{1 + \\theta a \\Delta t}.\n",
    "```\n",
    "\n",
    "We can then use `np.cumprod` to calculate cumulative product of $A$ over the timesteps, getting rid of the (pure python) for-loop."
   ]
  },
  {
   "cell_type": "code",
   "execution_count": 3,
   "metadata": {},
   "outputs": [],
   "source": [
    "def solver_numpy_cumprod(\n",
    "    I: float, a: float, T: float, dt: float, theta: float\n",
    ") -> tuple[np.ndarray, np.ndarray]:\n",
    "    num_steps = int(T // dt)\n",
    "    u = np.zeros(num_steps + 1)\n",
    "    t = np.linspace(0, num_steps * dt, num_steps + 1)\n",
    "\n",
    "    u[0] = I\n",
    "    A = (1 - (1 - theta) * a * dt) / (1 + theta * a * dt)\n",
    "    u[1:] = A\n",
    "\n",
    "    u = np.cumprod(u)\n",
    "    return u, t"
   ]
  },
  {
   "cell_type": "markdown",
   "metadata": {},
   "source": [
    "Comparing the two implementations, we see that the vectorized implementation is much faster."
   ]
  },
  {
   "cell_type": "code",
   "execution_count": 4,
   "metadata": {},
   "outputs": [
    {
     "name": "stdout",
     "output_type": "stream",
     "text": [
      "26.3 μs ± 1.03 μs per loop (mean ± std. dev. of 7 runs, 10,000 loops each)\n"
     ]
    }
   ],
   "source": [
    "%timeit solver_numpy(I, a, T, dt, theta)"
   ]
  },
  {
   "cell_type": "code",
   "execution_count": 5,
   "metadata": {},
   "outputs": [
    {
     "name": "stdout",
     "output_type": "stream",
     "text": [
      "6.87 μs ± 90.5 ns per loop (mean ± std. dev. of 7 runs, 100,000 loops each)\n"
     ]
    }
   ],
   "source": [
    "%timeit solver_numpy_cumprod(I, a, T, dt, theta)"
   ]
  },
  {
   "cell_type": "markdown",
   "metadata": {},
   "source": [
    "```{note}\n",
    "This method of vectorizing is not always possible, and relies on the fact that the reccurence relation can be written with a common amplification factor $A$.\n",
    "```"
   ]
  },
  {
   "cell_type": "markdown",
   "metadata": {},
   "source": [
    "## Implementing a solver in JAX\n",
    "\n",
    "Before we move on to the `lax` functions, let's see how we can implement the solver in JAX, as there are a few sharp edges to be aware of.\n",
    "\n",
    "### Stumbling towards an implementation\n",
    "The main thing is that JAX arrays are **immutable**. This means that you cannot change the value of an array in-place. Consider the following example:\n"
   ]
  },
  {
   "cell_type": "code",
   "execution_count": 6,
   "metadata": {},
   "outputs": [
    {
     "name": "stdout",
     "output_type": "stream",
     "text": [
      "JAX arrays are immutable and do not support in-place item assignment. Instead of x[idx] = y, use x = x.at[idx].set(y) or another .at[] method: https://jax.readthedocs.io/en/latest/_autosummary/jax.numpy.ndarray.at.html\n"
     ]
    }
   ],
   "source": [
    "import jax.numpy as jnp\n",
    "\n",
    "u = jnp.array([1, 2, 3, 4, 5])\n",
    "\n",
    "try:\n",
    "    u[1] = 10\n",
    "except TypeError as e:\n",
    "    print(e)"
   ]
  },
  {
   "cell_type": "markdown",
   "metadata": {},
   "source": [
    "What we instead need to do, as the error message so helpfully suggests, is to use `u.at[1].set(10)` to set the value of the array at index 1 to 10.\n",
    "\n",
    "Trying this, we see that we do not get an error."
   ]
  },
  {
   "cell_type": "code",
   "execution_count": 7,
   "metadata": {},
   "outputs": [
    {
     "data": {
      "text/plain": [
       "Array([ 1, 10,  3,  4,  5], dtype=int32)"
      ]
     },
     "execution_count": 7,
     "metadata": {},
     "output_type": "execute_result"
    }
   ],
   "source": [
    "u.at[1].set(10)"
   ]
  },
  {
   "cell_type": "markdown",
   "metadata": {},
   "source": [
    "This is however not an inplace operation, but rather a functional operation that returns a new array with the value at index 1 set to 10. **The original array is not changed.**"
   ]
  },
  {
   "cell_type": "code",
   "execution_count": 8,
   "metadata": {},
   "outputs": [
    {
     "data": {
      "text/plain": [
       "Array([1, 2, 3, 4, 5], dtype=int32)"
      ]
     },
     "execution_count": 8,
     "metadata": {},
     "output_type": "execute_result"
    }
   ],
   "source": [
    "u"
   ]
  },
  {
   "cell_type": "markdown",
   "metadata": {},
   "source": [
    "This causes a lot of copy operations in JAX, which can be quite slow, as well as some pretty verbose syntax.\n",
    "\n",
    "```{note}\n",
    "Most of the time, changing the value of an array out-of-place is not a problem, as it is converted to in-place operations when possible by the jit compiler.\n",
    "```"
   ]
  },
  {
   "cell_type": "markdown",
   "metadata": {},
   "source": [
    "Implementing the solver with this in mind, we get the following implementation:"
   ]
  },
  {
   "cell_type": "code",
   "execution_count": 9,
   "metadata": {},
   "outputs": [],
   "source": [
    "from jax import Array\n",
    "\n",
    "\n",
    "def solver_jax(\n",
    "    I: float, a: float, T: float, dt: float, theta: float\n",
    ") -> tuple[Array, Array]:\n",
    "    num_steps = int(T // dt)\n",
    "    u = jnp.zeros(num_steps + 1)\n",
    "    t = jnp.linspace(0, num_steps * dt, num_steps + 1)\n",
    "\n",
    "    u = u.at[0].set(I)\n",
    "    for n in range(num_steps):\n",
    "        new_value = (1 - (1 - theta) * a * dt) / (1 + theta * a * dt) * u[n]\n",
    "        u = u.at[n + 1].set(new_value)\n",
    "    return u, t"
   ]
  },
  {
   "cell_type": "markdown",
   "metadata": {},
   "source": [
    "Now, let's see if we have that famous JAX speedup!"
   ]
  },
  {
   "cell_type": "code",
   "execution_count": 10,
   "metadata": {},
   "outputs": [
    {
     "name": "stdout",
     "output_type": "stream",
     "text": [
      "18.9 ms ± 179 μs per loop (mean ± std. dev. of 7 runs, 100 loops each)\n"
     ]
    }
   ],
   "source": [
    "%timeit solver_jax(I, a, T, dt, theta)"
   ]
  },
  {
   "cell_type": "markdown",
   "metadata": {},
   "source": [
    "Wait, what? That was really slow! What happened?\n",
    "\n",
    "Well, here we obviously forgot to use `jit` to compile the function. Let's try that again. Here we need to use the `static_argnums` argument to `jit`, as the number of iterations is dependent on $T$ and $\\Delta t$, and which therefore need to be known at compile time."
   ]
  },
  {
   "cell_type": "code",
   "execution_count": 11,
   "metadata": {},
   "outputs": [
    {
     "name": "stdout",
     "output_type": "stream",
     "text": [
      "20.1 μs ± 7.94 μs per loop (mean ± std. dev. of 7 runs, 1 loop each)\n"
     ]
    }
   ],
   "source": [
    "from jax import jit\n",
    "\n",
    "solver_jax_jitted = jit(solver_jax, static_argnums=(2, 3))\n",
    "\n",
    "%timeit solver_jax_jitted(I, a, T, dt, theta)"
   ]
  },
  {
   "cell_type": "markdown",
   "metadata": {},
   "source": [
    "Finally, we got a bit closer to that famous speed, although we are still a bit off. In order to get a deeper understanding of how this happened, we will consider a _highly_ simplified version of the problem."
   ]
  },
  {
   "cell_type": "code",
   "execution_count": 12,
   "metadata": {},
   "outputs": [],
   "source": [
    "def loop(I: float) -> float:\n",
    "    for n in range(1, 6):\n",
    "        I = n * I\n",
    "    return I"
   ]
  },
  {
   "cell_type": "markdown",
   "metadata": {},
   "source": [
    "In order to see what `jit` does, we will use the `jax.make_jaxpr` function to see the compiled expression."
   ]
  },
  {
   "cell_type": "code",
   "execution_count": 13,
   "metadata": {},
   "outputs": [
    {
     "data": {
      "text/plain": [
       "{ lambda ; a:i32[]. let\n",
       "    b:i32[] = mul 1 a\n",
       "    c:i32[] = mul 2 b\n",
       "    d:i32[] = mul 3 c\n",
       "    e:i32[] = mul 4 d\n",
       "    f:i32[] = mul 5 e\n",
       "  in (f,) }"
      ]
     },
     "execution_count": 13,
     "metadata": {},
     "output_type": "execute_result"
    }
   ],
   "source": [
    "import jax\n",
    "\n",
    "jax.make_jaxpr(loop)(5)"
   ]
  },
  {
   "cell_type": "markdown",
   "metadata": {},
   "source": [
    "As we see, JAX has performed _loop unrolling_, in order to get rid of the overhead of the loop. This can sometimes be quite beneficial, however in our case, we have a large number of iterations, which causes the compilation in itself to be quite slow. In the case of our solver, doubling the number of iterations (in order to force recompilation) results in a compilation time of roughly 600 ms, which is not ideal for a function we might only call once."
   ]
  },
  {
   "cell_type": "code",
   "execution_count": 14,
   "metadata": {},
   "outputs": [
    {
     "name": "stdout",
     "output_type": "stream",
     "text": [
      "584 ms ± 0 ns per loop (mean ± std. dev. of 1 run, 1 loop each)\n"
     ]
    }
   ],
   "source": [
    "%timeit -n 1 -r 1 jit(solver_jax, static_argnums=(2, 3))(I, a, T*2, dt, theta)"
   ]
  },
  {
   "cell_type": "markdown",
   "metadata": {},
   "source": [
    "The `cumprod` version of the solver is easily translated to JAX, and we see that it is much faster than the looped version."
   ]
  },
  {
   "cell_type": "code",
   "execution_count": 21,
   "metadata": {},
   "outputs": [],
   "source": [
    "def solver_jax_cumprod(\n",
    "    I: float, a: float, T: float, dt: float, theta: float\n",
    ") -> tuple[Array, Array]:\n",
    "    num_steps = int(T // dt)\n",
    "    u = jnp.zeros(num_steps + 1)\n",
    "    t = jnp.linspace(0, num_steps * dt, num_steps + 1)\n",
    "\n",
    "    u = u.at[0].set(I)\n",
    "    A = (1 - (1 - theta) * a * dt) / (1 + theta * a * dt)\n",
    "    u = u.at[1:].set(A)\n",
    "\n",
    "    u = jnp.cumprod(u)\n",
    "    return u, t"
   ]
  },
  {
   "cell_type": "code",
   "execution_count": 26,
   "metadata": {},
   "outputs": [
    {
     "name": "stdout",
     "output_type": "stream",
     "text": [
      "16.7 μs ± 283 ns per loop (mean ± std. dev. of 7 runs, 100,000 loops each)\n"
     ]
    }
   ],
   "source": [
    "solver_jax_cumprod_jitted = jit(solver_jax_cumprod, static_argnums=(2, 3))\n",
    "\n",
    "%timeit solver_jax_cumprod_jitted(I, a, T, dt, theta)"
   ]
  },
  {
   "cell_type": "markdown",
   "metadata": {},
   "source": [
    "This is however quite a bit slower than the NumPy version, which is a bit disappointing. The reason for this stems partly from the difference in where the majority of the focus has been placed in the two libraries. As NumPy does not have a JIT compiler, a great deal of effort has been put into optimizing per-call performance, as the overhead incurred cannot be avoided.\n",
    "\n",
    "JAX on the other hand has been developed with a focus on multi-core and GPU acceleration, relying on the JIT compiler to optimize large chunks of code at the time.\n",
    "\n",
    "As we are in effect benchmarking a single function call, `cumprod`, it is not surprising that NumPy is faster in this case."
   ]
  },
  {
   "cell_type": "markdown",
   "metadata": {},
   "source": [
    "### Using `lax.fori_loop`\n",
    "\n",
    "As our original implementation in JAX was quite slow, we will use the control flow primitives provided by `lax` to speed up our implementation.\n",
    "\n",
    "As the original solver was a simple for-loop, we will naturally use `lax.fori_loop` to implement the solver.\n",
    "\n",
    "`lax.fori_loop` is roughly equivalent to the follow code snippet:\n",
    "```python\n",
    "def fori_loop(start, stop, body_fun, init_val):\n",
    "    val = init_val\n",
    "    for i in range(start, stop):\n",
    "        val = body_fun(i, val)\n",
    "    return val\n",
    "```\n",
    "where we have a start index, a stop index, a body function, and an initial value. `body_fun` is typically where all the heavy lifting is done, as we soon will see.\n",
    "\n",
    "As we've seen previously, we can use `@jit` as a dectorator to compile the function. However, now that we need to specify the `static_argnums` argument, we need to use a little trick to get the function to compile. This trick is to use `functools.partial` to specify the `static_argnums` argument."
   ]
  },
  {
   "cell_type": "code",
   "execution_count": 15,
   "metadata": {},
   "outputs": [],
   "source": [
    "from jax import lax\n",
    "from functools import partial\n",
    "\n",
    "\n",
    "@partial(jit, static_argnums=(2, 3))\n",
    "def solver_jax_fori(\n",
    "    I: float, a: float, T: float, dt: float, theta: float\n",
    ") -> tuple[Array, Array]:\n",
    "    num_steps = int(T // dt)\n",
    "    t = jnp.linspace(0, num_steps * dt, num_steps + 1)\n",
    "\n",
    "    u = jnp.zeros(num_steps + 1)\n",
    "    u = u.at[0].set(I)\n",
    "\n",
    "    def body_fun(n: int, u: Array) -> Array:\n",
    "        u_next = (1 - (1 - theta) * a * dt) / (1 + theta * a * dt) * u[n]\n",
    "        u = u.at[n + 1].set(u_next)\n",
    "        return u\n",
    "\n",
    "    u = lax.fori_loop(0, num_steps, body_fun, u)\n",
    "    return u, t"
   ]
  },
  {
   "cell_type": "markdown",
   "metadata": {},
   "source": [
    "Timing the function, we see that we have a significant speedup compared to the previous implementation."
   ]
  },
  {
   "cell_type": "code",
   "execution_count": 27,
   "metadata": {},
   "outputs": [
    {
     "name": "stdout",
     "output_type": "stream",
     "text": [
      "55.8 ms ± 0 ns per loop (mean ± std. dev. of 1 run, 1 loop each)\n"
     ]
    }
   ],
   "source": [
    "%timeit -n 1 -r 1 solver_jax_fori(I, a, T*2, dt, theta)"
   ]
  },
  {
   "cell_type": "markdown",
   "metadata": {},
   "source": [
    "We are also now outperfoming the first NumPy implementation, which is quite nice."
   ]
  },
  {
   "cell_type": "code",
   "execution_count": 28,
   "metadata": {},
   "outputs": [
    {
     "name": "stdout",
     "output_type": "stream",
     "text": [
      "13.3 μs ± 18.4 ns per loop (mean ± std. dev. of 7 runs, 100,000 loops each)\n"
     ]
    }
   ],
   "source": [
    "%timeit solver_jax_fori(I, a, T, dt, theta)"
   ]
  },
  {
   "cell_type": "markdown",
   "metadata": {},
   "source": [
    "### Using `lax.scan`\n",
    "\n",
    "In the example problem considered here, we are solving a simple ODE, where the solution at the next timestep is dependent on the solution at the previous timestep. With the previous implementation, we only used the index variable `n` to retrieve the solution at the previous timestep. A more natural way to implement this would be to use `lax.scan`.\n",
    "\n",
    "`lax.scan` is a function that is used to perform a scan operation, where the output of the previous iteration is used as input to the next iteration. `lax.scan` is roughly equivalent to the following code snippet:\n",
    "```python\n",
    "def scan(f, init, xs, length=None):\n",
    "    if xs is None:\n",
    "        xs = [None] * length\n",
    "    carry = init\n",
    "    ys = []\n",
    "    for x in xs:\n",
    "        carry, y = f(carry, x)\n",
    "        ys.append(y)\n",
    "    return carry, np.stack(ys)\n",
    "```\n",
    "where `f` is the function that is applied to the carry and the current element of `xs`, `init` is the initial value of the carry, and `xs` is the list of elements to iterate over.\n",
    "\n",
    "The result at each iteration is stored in a list, which is then stacked to form the final output. If we were only interested in the final result, `lax.fori_loop` would be a more natural choice.\n",
    "\n",
    "Here, we use the `static_argnames` argument to `jit`, rather than `static_argnums`, which can be more convenient when working with functions that take a lot of arguments."
   ]
  },
  {
   "cell_type": "code",
   "execution_count": 18,
   "metadata": {},
   "outputs": [],
   "source": [
    "@partial(jit, static_argnames=(\"T\", \"dt\"))\n",
    "def solver_jax_scan(\n",
    "    I: float, a: float, T: float, dt: float, theta: float\n",
    ") -> tuple[Array, Array]:\n",
    "    num_steps = int(T // dt)\n",
    "    t = jnp.linspace(0, num_steps * dt, num_steps + 1)\n",
    "    A = (1 - (1 - theta) * a * dt) / (1 + theta * a * dt)\n",
    "\n",
    "    def body_fun(u_prev: Array, _: Array) -> tuple[Array, Array]:\n",
    "        u_next = A * u_prev\n",
    "        return u_next, u_next\n",
    "\n",
    "    u, _ = lax.scan(body_fun, I, xs=None, length=num_steps)\n",
    "\n",
    "    return u, t"
   ]
  },
  {
   "cell_type": "code",
   "execution_count": 29,
   "metadata": {},
   "outputs": [
    {
     "name": "stdout",
     "output_type": "stream",
     "text": [
      "51.4 ms ± 0 ns per loop (mean ± std. dev. of 1 run, 1 loop each)\n"
     ]
    }
   ],
   "source": [
    "%timeit -n 1 -r 1 solver_jax_scan(I, a, T*2, dt, theta)"
   ]
  },
  {
   "cell_type": "code",
   "execution_count": 30,
   "metadata": {},
   "outputs": [
    {
     "name": "stdout",
     "output_type": "stream",
     "text": [
      "11.5 μs ± 217 ns per loop (mean ± std. dev. of 7 runs, 100,000 loops each)\n"
     ]
    }
   ],
   "source": [
    "%timeit solver_jax_scan(I, a, T, dt, theta)"
   ]
  },
  {
   "cell_type": "markdown",
   "metadata": {},
   "source": [
    "As we see, we get a slight speedup, as compared to the `lax.fori_loop` implementation."
   ]
  },
  {
   "cell_type": "markdown",
   "metadata": {},
   "source": [
    "## References\n",
    "```{bibliography}\n",
    ":filter: docname in docnames\n",
    "```"
   ]
  }
 ],
 "metadata": {
  "kernelspec": {
   "display_name": "jax-intro",
   "language": "python",
   "name": "python3"
  },
  "language_info": {
   "codemirror_mode": {
    "name": "ipython",
    "version": 3
   },
   "file_extension": ".py",
   "mimetype": "text/x-python",
   "name": "python",
   "nbconvert_exporter": "python",
   "pygments_lexer": "ipython3",
   "version": "3.12.7"
  }
 },
 "nbformat": 4,
 "nbformat_minor": 2
}
